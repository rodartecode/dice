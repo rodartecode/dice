{
 "cells": [
  {
   "cell_type": "code",
   "execution_count": 33,
   "metadata": {},
   "outputs": [],
   "source": [
    "import matplotlib.pyplot as plt\n",
    "import random\n",
    "import numpy as np\n",
    "from statistics import mean, median, mode\n",
    "from collections import Counter\n",
    "\n",
    "def dicegram(diceList, sample):\n",
    "  history = []\n",
    "  i = 0\n",
    "  while len(history) < sample:\n",
    "    num, sides, c = diceList[i]\n",
    "    res = 0\n",
    "    for _ in range(num):\n",
    "      res += random.randint(1, sides)\n",
    "    res += c\n",
    "    history += [res]\n",
    "    i = (i + 1) % len(diceList)\n",
    "  return history\n",
    "\n",
    "def showPlot(p):\n",
    "  p = np.array(p)\n",
    "  d = np.diff(np.unique(p)).min()\n",
    "  left_of_first_bin = p.min() - float(d)/2\n",
    "  right_of_last_bin = p.max() + float(d)/2\n",
    "  plt.hist(p, np.arange(left_of_first_bin, right_of_last_bin + d, d))\n",
    "  plt.show()\n",
    "  cnt = Counter(p)\n",
    "  print(f\"Mean: {mean(p)} | Median: {median(p)} | Mode: {mode(p)}\")\n",
    "  print(cnt)"
   ]
  },
  {
   "cell_type": "code",
   "execution_count": 34,
   "metadata": {},
   "outputs": [
    {
     "name": "stdout",
     "output_type": "stream",
     "text": [
      "Mean: 13 | Median: 13.0 | Mode: 13\n",
      "Counter({13: 5, 12: 4, 16: 3, 14: 2, 8: 1, 18: 1, 9: 1, 11: 1, 10: 1, 15: 1})\n"
     ]
    },
    {
     "data": {
      "image/png": "[encoded data removed]",
      "text/plain": [
       "<Figure size 640x480 with 1 Axes>"
      ]
     },
     "metadata": {},
     "output_type": "display_data"
    }
   ],
   "source": [
    "\n",
    "dice = [(3, 6, 2)]\n",
    "hist = dicegram(dice, 20)\n",
    "# print(hist)\n",
    "showPlot(hist)"
   ]
  }
 ],
 "metadata": {
  "kernelspec": {
   "display_name": "Python 3",
   "language": "python",
   "name": "python3"
  },
  "language_info": {
   "codemirror_mode": {
    "name": "ipython",
    "version": 3
   },
   "file_extension": ".py",
   "mimetype": "text/x-python",
   "name": "python",
   "nbconvert_exporter": "python",
   "pygments_lexer": "ipython3",
   "version": "3.8.10"
  }
 },
 "nbformat": 4,
 "nbformat_minor": 2
}
